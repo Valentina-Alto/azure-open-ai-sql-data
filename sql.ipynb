{
 "cells": [
  {
   "cell_type": "code",
   "execution_count": 8,
   "metadata": {},
   "outputs": [],
   "source": [
    "import pandas as pd\n",
    "import sys\n",
    "import re\n",
    "import requests\n",
    "import os\n",
    "import numpy as np\n",
    "\n",
    "import streamlit as st\n",
    "import openai\n",
    "from openai.embeddings_utils import get_embedding, cosine_similarity\n",
    "from openai.embeddings_utils import distances_from_embeddings\n",
    "import os\n",
    "\n",
    "os.environ[\"OPENAI_API_TYPE\"] = \"azure\"\n",
    "os.environ[\"OPENAI_API_KEY\"] = \"xxx\"\n",
    "os.environ[\"OPENAI_API_BASE\"] = \"xxx\"\n",
    "os.environ[\"OPENAI_API_VERSION\"] = \"2022-12-01\"\n",
    "\n"
   ]
  },
  {
   "cell_type": "code",
   "execution_count": 11,
   "metadata": {},
   "outputs": [
    {
     "name": "stdout",
     "output_type": "stream",
     "text": [
      "\n",
      "\n",
      "Q: What did the fish say when it hit the wall?\n",
      "A: Dam!\n"
     ]
    }
   ],
   "source": [
    "# Import Azure OpenAI\n",
    "from langchain.llms import AzureOpenAI\n",
    "import openai\n",
    "\n",
    "llm = AzureOpenAI(deployment_name=\"text-davinci-003\", model_name=\"text-davinci-003\")\n",
    "# Run the LLM\n",
    "print(llm(\"Tell me a joke\"))"
   ]
  },
  {
   "cell_type": "code",
   "execution_count": 19,
   "metadata": {},
   "outputs": [
    {
     "name": "stderr",
     "output_type": "stream",
     "text": [
      "c:\\Users\\vaalt\\Anaconda3\\lib\\site-packages\\pandas\\io\\sql.py:762: UserWarning: pandas only support SQLAlchemy connectable(engine/connection) ordatabase string URI or sqlite3 DBAPI2 connectionother DBAPI2 objects are not tested, please consider using SQLAlchemy\n",
      "  warnings.warn(\n"
     ]
    },
    {
     "name": "stdout",
     "output_type": "stream",
     "text": [
      "   AddressID         AddressLine1 AddressLine2      City     StateProvince  \\\n",
      "0          9    8713 Yosemite Ct.         None   Bothell        Washington   \n",
      "1         11  1318 Lasalle Street         None   Bothell        Washington   \n",
      "2         25     9178 Jumping St.         None    Dallas             Texas   \n",
      "3         28     9228 Via Del Sol         None   Phoenix           Arizona   \n",
      "4         32    26910 Indela Road         None  Montreal            Quebec   \n",
      "5        185      2681 Eagle Peak         None  Bellevue        Washington   \n",
      "6        297      7943 Walnut Ave         None    Renton        Washington   \n",
      "7        445   6388 Lake City Way         None   Burnaby  British Columbia   \n",
      "8        446    52560 Free Street         None   Toronto           Ontario   \n",
      "9        447    22580 Free Street         None   Toronto           Ontario   \n",
      "\n",
      "   CountryRegion PostalCode                               rowguid ModifiedDate  \n",
      "0  United States      98011  268AF621-76D7-4C78-9441-144FD139821A   2006-07-01  \n",
      "1  United States      98011  981B3303-ACA2-49C7-9A96-FB670785B269   2007-04-01  \n",
      "2  United States      75201  C8DF3BD9-48F0-4654-A8DD-14A67A84D3C6   2006-09-01  \n",
      "3  United States      85004  12AE5EE1-FC3E-468B-9B92-3B970B169774   2005-09-01  \n",
      "4         Canada    H1Y 2H5  84A95F62-3AE8-4E7E-BBD5-5A6F00CD982D   2006-08-01  \n",
      "5  United States      98004  7BCCF442-2268-46CC-8472-14C44C14E98C   2006-09-01  \n",
      "6  United States      98055  52410DA4-2778-4B1D-A599-95746625CE6D   2006-08-01  \n",
      "7         Canada    V5A 3A6  53572F25-9133-4A8B-A065-102FF35416EE   2006-09-01  \n",
      "8         Canada    M4B 1V7  801A1DFC-5125-486B-AA84-CCBD2EC57CA4   2005-08-01  \n",
      "9         Canada    M4B 1V7  88CEE379-DBB8-433B-B84E-A35E09435500   2006-08-01  \n"
     ]
    }
   ],
   "source": [
    "import pyodbc\n",
    "import pandas as pd\n",
    "\n",
    "\n",
    "cnxn = pyodbc.connect(\"Driver={ODBC Driver 18 for SQL Server};Server=tcp:vaalt.database.windows.net,1433;Database=vaalt1;Uid=vaalt;Pwd=Lardosa!12;Encrypt=yes;TrustServerCertificate=no;\")\n",
    "cursor = cnxn.cursor()\n",
    "# select 10 rows from SQL table to insert in dataframe.\n",
    "query = \"select * from [SalesLT].[Address];\"\n",
    "df = pd.read_sql(query, cnxn)\n",
    "df.head(10)"
   ]
  },
  {
   "cell_type": "code",
   "execution_count": 20,
   "metadata": {},
   "outputs": [
    {
     "data": {
      "text/html": [
       "<div>\n",
       "<style scoped>\n",
       "    .dataframe tbody tr th:only-of-type {\n",
       "        vertical-align: middle;\n",
       "    }\n",
       "\n",
       "    .dataframe tbody tr th {\n",
       "        vertical-align: top;\n",
       "    }\n",
       "\n",
       "    .dataframe thead th {\n",
       "        text-align: right;\n",
       "    }\n",
       "</style>\n",
       "<table border=\"1\" class=\"dataframe\">\n",
       "  <thead>\n",
       "    <tr style=\"text-align: right;\">\n",
       "      <th></th>\n",
       "      <th>AddressID</th>\n",
       "      <th>AddressLine1</th>\n",
       "      <th>AddressLine2</th>\n",
       "      <th>City</th>\n",
       "      <th>StateProvince</th>\n",
       "      <th>CountryRegion</th>\n",
       "      <th>PostalCode</th>\n",
       "      <th>rowguid</th>\n",
       "      <th>ModifiedDate</th>\n",
       "    </tr>\n",
       "  </thead>\n",
       "  <tbody>\n",
       "    <tr>\n",
       "      <th>0</th>\n",
       "      <td>9</td>\n",
       "      <td>8713 Yosemite Ct.</td>\n",
       "      <td>None</td>\n",
       "      <td>Bothell</td>\n",
       "      <td>Washington</td>\n",
       "      <td>United States</td>\n",
       "      <td>98011</td>\n",
       "      <td>268AF621-76D7-4C78-9441-144FD139821A</td>\n",
       "      <td>2006-07-01</td>\n",
       "    </tr>\n",
       "    <tr>\n",
       "      <th>1</th>\n",
       "      <td>11</td>\n",
       "      <td>1318 Lasalle Street</td>\n",
       "      <td>None</td>\n",
       "      <td>Bothell</td>\n",
       "      <td>Washington</td>\n",
       "      <td>United States</td>\n",
       "      <td>98011</td>\n",
       "      <td>981B3303-ACA2-49C7-9A96-FB670785B269</td>\n",
       "      <td>2007-04-01</td>\n",
       "    </tr>\n",
       "    <tr>\n",
       "      <th>2</th>\n",
       "      <td>25</td>\n",
       "      <td>9178 Jumping St.</td>\n",
       "      <td>None</td>\n",
       "      <td>Dallas</td>\n",
       "      <td>Texas</td>\n",
       "      <td>United States</td>\n",
       "      <td>75201</td>\n",
       "      <td>C8DF3BD9-48F0-4654-A8DD-14A67A84D3C6</td>\n",
       "      <td>2006-09-01</td>\n",
       "    </tr>\n",
       "    <tr>\n",
       "      <th>3</th>\n",
       "      <td>28</td>\n",
       "      <td>9228 Via Del Sol</td>\n",
       "      <td>None</td>\n",
       "      <td>Phoenix</td>\n",
       "      <td>Arizona</td>\n",
       "      <td>United States</td>\n",
       "      <td>85004</td>\n",
       "      <td>12AE5EE1-FC3E-468B-9B92-3B970B169774</td>\n",
       "      <td>2005-09-01</td>\n",
       "    </tr>\n",
       "    <tr>\n",
       "      <th>4</th>\n",
       "      <td>32</td>\n",
       "      <td>26910 Indela Road</td>\n",
       "      <td>None</td>\n",
       "      <td>Montreal</td>\n",
       "      <td>Quebec</td>\n",
       "      <td>Canada</td>\n",
       "      <td>H1Y 2H5</td>\n",
       "      <td>84A95F62-3AE8-4E7E-BBD5-5A6F00CD982D</td>\n",
       "      <td>2006-08-01</td>\n",
       "    </tr>\n",
       "    <tr>\n",
       "      <th>5</th>\n",
       "      <td>185</td>\n",
       "      <td>2681 Eagle Peak</td>\n",
       "      <td>None</td>\n",
       "      <td>Bellevue</td>\n",
       "      <td>Washington</td>\n",
       "      <td>United States</td>\n",
       "      <td>98004</td>\n",
       "      <td>7BCCF442-2268-46CC-8472-14C44C14E98C</td>\n",
       "      <td>2006-09-01</td>\n",
       "    </tr>\n",
       "    <tr>\n",
       "      <th>6</th>\n",
       "      <td>297</td>\n",
       "      <td>7943 Walnut Ave</td>\n",
       "      <td>None</td>\n",
       "      <td>Renton</td>\n",
       "      <td>Washington</td>\n",
       "      <td>United States</td>\n",
       "      <td>98055</td>\n",
       "      <td>52410DA4-2778-4B1D-A599-95746625CE6D</td>\n",
       "      <td>2006-08-01</td>\n",
       "    </tr>\n",
       "    <tr>\n",
       "      <th>7</th>\n",
       "      <td>445</td>\n",
       "      <td>6388 Lake City Way</td>\n",
       "      <td>None</td>\n",
       "      <td>Burnaby</td>\n",
       "      <td>British Columbia</td>\n",
       "      <td>Canada</td>\n",
       "      <td>V5A 3A6</td>\n",
       "      <td>53572F25-9133-4A8B-A065-102FF35416EE</td>\n",
       "      <td>2006-09-01</td>\n",
       "    </tr>\n",
       "    <tr>\n",
       "      <th>8</th>\n",
       "      <td>446</td>\n",
       "      <td>52560 Free Street</td>\n",
       "      <td>None</td>\n",
       "      <td>Toronto</td>\n",
       "      <td>Ontario</td>\n",
       "      <td>Canada</td>\n",
       "      <td>M4B 1V7</td>\n",
       "      <td>801A1DFC-5125-486B-AA84-CCBD2EC57CA4</td>\n",
       "      <td>2005-08-01</td>\n",
       "    </tr>\n",
       "    <tr>\n",
       "      <th>9</th>\n",
       "      <td>447</td>\n",
       "      <td>22580 Free Street</td>\n",
       "      <td>None</td>\n",
       "      <td>Toronto</td>\n",
       "      <td>Ontario</td>\n",
       "      <td>Canada</td>\n",
       "      <td>M4B 1V7</td>\n",
       "      <td>88CEE379-DBB8-433B-B84E-A35E09435500</td>\n",
       "      <td>2006-08-01</td>\n",
       "    </tr>\n",
       "  </tbody>\n",
       "</table>\n",
       "</div>"
      ],
      "text/plain": [
       "   AddressID         AddressLine1 AddressLine2      City     StateProvince  \\\n",
       "0          9    8713 Yosemite Ct.         None   Bothell        Washington   \n",
       "1         11  1318 Lasalle Street         None   Bothell        Washington   \n",
       "2         25     9178 Jumping St.         None    Dallas             Texas   \n",
       "3         28     9228 Via Del Sol         None   Phoenix           Arizona   \n",
       "4         32    26910 Indela Road         None  Montreal            Quebec   \n",
       "5        185      2681 Eagle Peak         None  Bellevue        Washington   \n",
       "6        297      7943 Walnut Ave         None    Renton        Washington   \n",
       "7        445   6388 Lake City Way         None   Burnaby  British Columbia   \n",
       "8        446    52560 Free Street         None   Toronto           Ontario   \n",
       "9        447    22580 Free Street         None   Toronto           Ontario   \n",
       "\n",
       "   CountryRegion PostalCode                               rowguid ModifiedDate  \n",
       "0  United States      98011  268AF621-76D7-4C78-9441-144FD139821A   2006-07-01  \n",
       "1  United States      98011  981B3303-ACA2-49C7-9A96-FB670785B269   2007-04-01  \n",
       "2  United States      75201  C8DF3BD9-48F0-4654-A8DD-14A67A84D3C6   2006-09-01  \n",
       "3  United States      85004  12AE5EE1-FC3E-468B-9B92-3B970B169774   2005-09-01  \n",
       "4         Canada    H1Y 2H5  84A95F62-3AE8-4E7E-BBD5-5A6F00CD982D   2006-08-01  \n",
       "5  United States      98004  7BCCF442-2268-46CC-8472-14C44C14E98C   2006-09-01  \n",
       "6  United States      98055  52410DA4-2778-4B1D-A599-95746625CE6D   2006-08-01  \n",
       "7         Canada    V5A 3A6  53572F25-9133-4A8B-A065-102FF35416EE   2006-09-01  \n",
       "8         Canada    M4B 1V7  801A1DFC-5125-486B-AA84-CCBD2EC57CA4   2005-08-01  \n",
       "9         Canada    M4B 1V7  88CEE379-DBB8-433B-B84E-A35E09435500   2006-08-01  "
      ]
     },
     "execution_count": 20,
     "metadata": {},
     "output_type": "execute_result"
    }
   ],
   "source": [
    "df.head(10)"
   ]
  },
  {
   "cell_type": "code",
   "execution_count": 21,
   "metadata": {},
   "outputs": [
    {
     "name": "stdout",
     "output_type": "stream",
     "text": [
      "\n",
      "\n",
      "\u001b[1m> Entering new AgentExecutor chain...\u001b[0m\n",
      "\u001b[32;1m\u001b[1;3mThought: I need to find out how many rows are in the dataframe\n",
      "Action: python_repl_ast\n",
      "Action Input: df.shape[0]\u001b[0m\n",
      "Observation: \u001b[36;1m\u001b[1;3m450\u001b[0m\n",
      "Thought:\u001b[32;1m\u001b[1;3m I now know the final answer\n",
      "Final Answer: There are 450 rows.\u001b[0m\n",
      "\n",
      "\u001b[1m> Finished chain.\u001b[0m\n"
     ]
    },
    {
     "data": {
      "text/plain": [
       "'There are 450 rows.'"
      ]
     },
     "execution_count": 21,
     "metadata": {},
     "output_type": "execute_result"
    }
   ],
   "source": [
    "from langchain.agents import create_pandas_dataframe_agent\n",
    "agent = create_pandas_dataframe_agent(llm, df, verbose=True)\n",
    "agent.run(\"how many rows are there?\")"
   ]
  },
  {
   "cell_type": "code",
   "execution_count": 22,
   "metadata": {},
   "outputs": [
    {
     "name": "stdout",
     "output_type": "stream",
     "text": [
      "\n",
      "\n",
      "\u001b[1m> Entering new AgentExecutor chain...\u001b[0m\n",
      "\u001b[32;1m\u001b[1;3mThought: I need to know the unique values in the 'StateProvince' column\n",
      "Action: python_repl_ast\n",
      "Action Input: df['StateProvince'].nunique()\u001b[0m\n",
      "Observation: \u001b[36;1m\u001b[1;3m25\u001b[0m\n",
      "Thought:\u001b[32;1m\u001b[1;3m I now know the final answer\n",
      "Final Answer: 25\u001b[0m\n",
      "\n",
      "\u001b[1m> Finished chain.\u001b[0m\n"
     ]
    },
    {
     "data": {
      "text/plain": [
       "'25'"
      ]
     },
     "execution_count": 22,
     "metadata": {},
     "output_type": "execute_result"
    }
   ],
   "source": [
    "agent.run(\"how many unique state provinces are there?\")"
   ]
  },
  {
   "cell_type": "code",
   "execution_count": 23,
   "metadata": {},
   "outputs": [
    {
     "name": "stdout",
     "output_type": "stream",
     "text": [
      "\n",
      "\n",
      "\u001b[1m> Entering new AgentExecutor chain...\u001b[0m\n",
      "\u001b[32;1m\u001b[1;3mThought: I need to filter out the unique cities\n",
      "Action: python_repl_ast\n",
      "Action Input: df.City.unique()\u001b[0m\n",
      "Observation: \u001b[36;1m\u001b[1;3m['Bothell' 'Dallas' 'Phoenix' 'Montreal' 'Bellevue' 'Renton' 'Burnaby'\n",
      " 'Toronto' 'Chalk Riber' 'Quebec' 'Calgary' 'Weston' 'Vancouver' 'Ottawa'\n",
      " 'Etobicoke' 'Markham' 'Pnot-Rouge' 'Richmond' 'Surrey' 'Scarborough'\n",
      " 'Hull' 'Brossard' 'Barrie' 'Sainte-Foy' 'Winnipeg' 'Saint John'\n",
      " 'Mississauga' 'Victoria' 'Waterloo' 'Edmonton' 'Kingston' 'Outremont'\n",
      " 'Richmond Hill' 'Brampton' \"Ville De'anjou\" 'North York' 'Kanata'\n",
      " 'Sillery' 'Nepean' 'Aurora' 'Dorval' 'Irving' 'Austin' 'North Sioux City'\n",
      " 'Edina' 'Laredo' 'West Chicago' 'Chicago' 'Garland' 'Wood Dale'\n",
      " 'Round Rock' 'Fort Worth' 'Elgin' 'Carol Stream' 'Carrollton' 'Plano'\n",
      " 'Saint Louis' 'Jefferson City' 'Houston' 'Duluth' 'Baytown' 'Peoria'\n",
      " 'San Antonio' 'Humble' 'Moline' 'Saint Ann' 'Ferguson' 'Killeen' 'Joliet'\n",
      " 'Racine' 'Corpus Christi' 'College Station' 'Milwaukee' 'Denby'\n",
      " 'Norridge' 'Cedar Park' 'Mesquite' 'Stafford' 'Hillsboro' 'Johnson Creek'\n",
      " 'Kansas City' 'Sugar Land' 'Woodbury' 'Branch' 'Branson' 'Mosinee'\n",
      " 'La Marque' 'Tuscola' 'Minneapolis' 'Arlington' 'Odessa' 'Medford'\n",
      " 'London' 'Warrington' 'Gloucestershire' 'Milton Keynes' 'Wokingham'\n",
      " 'W. York' 'Liverpool' 'Oxon' 'Lancaster' 'Basingstoke Hants'\n",
      " 'High Wycombe' 'Reading' 'Abingdon' 'West Sussex' 'York' 'Berkshire'\n",
      " 'Birmingham' 'Bracknell' 'Woolston' 'Maidenhead' 'Berks' 'Oxford'\n",
      " 'Cambridge' 'Zeeland' 'Pontiac' 'Novi' 'Southfield' 'Madison Heights'\n",
      " 'Westland' 'Southgate' 'Detroit' 'Saginaw' 'Midland' 'Holland' 'Monroe'\n",
      " 'Redford' 'Port Huron' 'Howell' 'Seattle' 'Kent' 'Puyallup' 'Billings'\n",
      " 'Portland' 'North Bend' 'Beaverton' 'Woodinville' 'Issaquah'\n",
      " 'Idaho Falls' 'Redmond' 'Wenatchee' 'Klamath Falls' 'Troutdale'\n",
      " 'Clackamas' 'Milwaukie' 'Port Orchard' 'Shelton' 'Longview' 'Lynnwood'\n",
      " 'Washougal' 'Tacoma' 'Bellingham' 'Everett' 'Ellensburg' 'Sequim'\n",
      " 'Spokane' 'Cheyenne' 'Sandpoint' 'Union Gap' 'Lacey' 'Missoula' 'Albany'\n",
      " 'Chehalis' 'Kennewick' 'Salem' 'Lewiston' 'Kelso' 'Casper' 'Great Falls'\n",
      " 'Kirkland' 'Rock Springs' 'Springfield' 'Federal Way' 'Tigard' 'Fremont'\n",
      " 'Camarillo' 'Salt Lake City' 'San Ramon' 'Union City' 'El Segundo'\n",
      " 'Milpitas' 'Newport Beach' 'Visalia' 'Hayward' 'Fullerton' 'San Diego'\n",
      " 'Ontario' 'Greeley' 'Pleasanton' 'Santa Ana' 'Newark' 'Fontana'\n",
      " 'San Francisco' 'Sparks' 'Westminster' 'Modesto' 'Stockton' 'Culver City'\n",
      " 'Carson' 'Bell Gardens' 'Fernley' 'San Jose' 'Santa Fe' 'Cerritos'\n",
      " 'Monrovia' 'Torrance' 'Chandler' 'Las Cruces' 'Denver' 'Englewood'\n",
      " 'Santa Monica' 'Orange' 'Canoga Park' 'Escondido' 'Sacramento'\n",
      " 'Simi Valley' 'Lakewood' 'Oxnard' 'Alhambra' 'Park City' 'Vista' 'Upland'\n",
      " 'El Cajon' 'Downey' 'Hanford' 'Vacaville' 'Loveland' 'Barstow'\n",
      " 'City Of Commerce' 'Redlands' 'San Ysidro' 'Gilroy' 'Las Vegas'\n",
      " 'Lake Elsinore' 'Norwalk' 'Sherman Oaks' 'Whittier' 'Tucson' 'Alpine'\n",
      " 'Irvine' 'Mesa' 'Eureka' 'Baldwin Park' 'Citrus Heights' 'Trabuco Canyon'\n",
      " 'San Mateo' 'Longmont' 'Parker' 'Elk Grove' 'San Bruno' 'Walnut Creek'\n",
      " 'Gilbert' 'North Las Vegas' 'Rio Rancho' 'Van Nuys' 'Surprise'\n",
      " 'Sand City' 'Sandy' 'La Mesa' 'Auburn' 'Scottsdale' 'Reno' 'Ogden'\n",
      " 'Bountiful' 'Daly City' 'Riverton' 'Tooele' 'Cedar City']\u001b[0m\n",
      "Thought:\u001b[32;1m\u001b[1;3m I now know the final answer\n",
      "Final Answer: The names of the unique cities are: Bothell, Dallas, Phoenix, Montreal, Bellevue, Renton, Burnaby, Toronto, Chalk Riber, Quebec, Calgary, Weston, Vancouver, Ottawa, Etobicoke, Markham, Pnot-Rouge, Richmond, Surrey, Scarborough, Hull, Brossard, Barrie, Sainte-Foy, Winnipeg, Saint John, Mississauga, Victoria, Waterloo, Edmonton, Kingston, Outremont, Richmond Hill, Brampton, Ville De'anjou, North York, Kanata, Sillery, Nepean, Aurora, Dorval, Irving, Austin, North Sioux City, Edina, Laredo, West Chicago, Chicago, Garland, Wood Dale, Round Rock, Fort Worth, Elgin, Carol Stream, Carrollton, Plano, Saint Louis, Jefferson City, Houston, Duluth, Baytown, Peoria, San Antonio, Humble, Moline, Saint Ann, Ferguson, Killeen, Joliet, Racine, Corpus Christi, College Station, Milwaukee, Denby, Norridge, Cedar Park, Mesquite, Stafford, Hillsboro, Johnson Creek, Kansas City\u001b[0m\n",
      "\n",
      "\u001b[1m> Finished chain.\u001b[0m\n"
     ]
    },
    {
     "data": {
      "text/plain": [
       "\"The names of the unique cities are: Bothell, Dallas, Phoenix, Montreal, Bellevue, Renton, Burnaby, Toronto, Chalk Riber, Quebec, Calgary, Weston, Vancouver, Ottawa, Etobicoke, Markham, Pnot-Rouge, Richmond, Surrey, Scarborough, Hull, Brossard, Barrie, Sainte-Foy, Winnipeg, Saint John, Mississauga, Victoria, Waterloo, Edmonton, Kingston, Outremont, Richmond Hill, Brampton, Ville De'anjou, North York, Kanata, Sillery, Nepean, Aurora, Dorval, Irving, Austin, North Sioux City, Edina, Laredo, West Chicago, Chicago, Garland, Wood Dale, Round Rock, Fort Worth, Elgin, Carol Stream, Carrollton, Plano, Saint Louis, Jefferson City, Houston, Duluth, Baytown, Peoria, San Antonio, Humble, Moline, Saint Ann, Ferguson, Killeen, Joliet, Racine, Corpus Christi, College Station, Milwaukee, Denby, Norridge, Cedar Park, Mesquite, Stafford, Hillsboro, Johnson Creek, Kansas City\""
      ]
     },
     "execution_count": 23,
     "metadata": {},
     "output_type": "execute_result"
    }
   ],
   "source": [
    "agent.run(\"list the name of unique cities\")"
   ]
  },
  {
   "cell_type": "code",
   "execution_count": 24,
   "metadata": {},
   "outputs": [
    {
     "name": "stdout",
     "output_type": "stream",
     "text": [
      "\n",
      "\n",
      "\u001b[1m> Entering new AgentExecutor chain...\u001b[0m\n",
      "\u001b[32;1m\u001b[1;3mThought: I need to find out how many times each country region appears in the dataframe\n",
      "Action: python_repl_ast\n",
      "Action Input: df['CountryRegion'].value_counts()\u001b[0m\n",
      "Observation: \u001b[36;1m\u001b[1;3mUnited States     295\n",
      "Canada            115\n",
      "United Kingdom     40\n",
      "Name: CountryRegion, dtype: int64\u001b[0m\n",
      "Thought:\u001b[32;1m\u001b[1;3m I now know the final answer\n",
      "Final Answer: United States: 295, Canada: 115, United Kingdom: 40\u001b[0m\n",
      "\n",
      "\u001b[1m> Finished chain.\u001b[0m\n"
     ]
    },
    {
     "data": {
      "text/plain": [
       "'United States: 295, Canada: 115, United Kingdom: 40'"
      ]
     },
     "execution_count": 24,
     "metadata": {},
     "output_type": "execute_result"
    }
   ],
   "source": [
    "agent.run(\"what is the frequency of each country region?\")"
   ]
  }
 ],
 "metadata": {
  "kernelspec": {
   "display_name": "base",
   "language": "python",
   "name": "python3"
  },
  "language_info": {
   "codemirror_mode": {
    "name": "ipython",
    "version": 3
   },
   "file_extension": ".py",
   "mimetype": "text/x-python",
   "name": "python",
   "nbconvert_exporter": "python",
   "pygments_lexer": "ipython3",
   "version": "3.9.13"
  },
  "orig_nbformat": 4,
  "vscode": {
   "interpreter": {
    "hash": "0ca9a16dcd4adf11080a427a2dbb789e41d67b39b30c00c80d1ab10cb03e9598"
   }
  }
 },
 "nbformat": 4,
 "nbformat_minor": 2
}
